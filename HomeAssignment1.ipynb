{
 "cells": [
  {
   "cell_type": "markdown",
   "metadata": {},
   "source": [
    "# Home Assignment 1\n",
    "Due by 8th May, 2024 at 23:59 CEST"
   ]
  },
  {
   "cell_type": "markdown",
   "metadata": {},
   "source": [
    "## Neural Network Basics\n",
    "\n",
    "We want to create a 2 layer NN, which means we want to calculate  $y = W_2 * ReLU(W_1 * x + b_1) + b_2$\n",
    "\n",
    "Complete the TODOs below to create such a NN.\n",
    "\n",
    "Since you will be needing to compute the gradients w.r.t. all parameters, you may look into online resources for help. Please cite or link any online recources you do use.\n",
    "\n",
    "You are allowed to change any existing parts, however the code has to remain easy to understand and well documented."
   ]
  },
  {
   "cell_type": "code",
   "execution_count": 3,
   "metadata": {},
   "outputs": [],
   "source": [
    "import numpy as np\n",
    "\n",
    "def relu(x):\n",
    "    \"\"\"\n",
    "    ReLU activation function\n",
    "    \n",
    "    Parameters:\n",
    "        x (np.ndarray): numpy array with shape (m, n) where m is the number of dimensions and n is the number of points\n",
    "        \n",
    "    Returns:\n",
    "        x' (np.ndarray): return value of the pointwise ReLU application\n",
    "    \"\"\"\n",
    "    # return 1 / (1 + np.exp(-x)) # this is the sigmoid function, not ReLU\n",
    "    return np.maximum(0, x)  # ReLU function: max(0, x)\n",
    "\n",
    "\n",
    "def relu_grad(x):\n",
    "    # TODO: Write a function given a numpy array that calculates the gradient of the ReLU function w.r.t. `x`\n",
    "    # TODO: Also write the derivation of the gradient in the PDF file In the implementation you may simply use the final derivation.\n",
    "    # Hint: The function should return a numpy array of the same dimension that `x` has, but only containing 0 or 1\n",
    "    return np.where(x > 0, 1, 0)\n"
   ]
  },
  {
   "cell_type": "code",
   "execution_count": 16,
   "metadata": {},
   "outputs": [],
   "source": [
    "import numpy as np\n",
    "import matplotlib.pyplot as plt\n",
    "\n",
    "class NumPyNeuralNet:\n",
    "    \n",
    "    def __init__(self, dim_in, dim_hidden, dim_out):\n",
    "        self.dim_in = dim_in\n",
    "        self.dim_hidden = dim_hidden\n",
    "        self.dim_out = dim_out\n",
    "        \n",
    "        # TODO: Randomly initialize the weight matrices W_1, W_2 and biases b_1, b_2\n",
    "        # Hint: use np.random.randn() and make sure to correctly set the dimensions \n",
    "        self.W_1 = np.random.randn(dim_hidden, dim_in) * np.sqrt(2.0 / dim_in)\n",
    "        self.W_2 = np.random.randn(dim_out, dim_hidden) * np.sqrt(2.0 / dim_hidden)\n",
    "        self.b_1 = np.zeros((dim_hidden, 1))\n",
    "        self.b_2 = np.zeros((dim_out, 1))\n",
    "        \n",
    "        \n",
    "    def predict(self, x):\n",
    "        \"\"\"\n",
    "        Calculates the output of the neural network for the given x.\n",
    "        \n",
    "        Parameters:\n",
    "            x (np.ndarray): input value numpy array\n",
    "        \n",
    "        Returns:\n",
    "            y (np.ndarray): predicted output for `x`\n",
    "        \"\"\"\n",
    "        z1 = np.dot(self.W_1, x) + self.b_1\n",
    "        a1 = relu(z1)\n",
    "        y = np.dot(self.W_2, a1) + self.b_2\n",
    "        return y\n",
    "    \n",
    "    \n",
    "    def loss(self, x, y):\n",
    "        \"\"\"\n",
    "        Calculates the Mean-Squared Error and returns the gradients w.r.t. to the parameters.\n",
    "        \n",
    "        Parameters:\n",
    "            x (np.ndarray): input value numpy array with shape (self.dim_in, n)\n",
    "            y (np.ndarray): ground truth value numpy array with shape (self.dim_out, n)\n",
    "            \n",
    "        Returns:\n",
    "            loss (float): Mean-Squared-Error between predicted value on input points and ground truth value\n",
    "            W_1_grad (np.ndarray): gradient w.r.t W_1   \n",
    "            W_2_grad (np.ndarray): gradient w.r.t W_2  \n",
    "            b_1_grad (np.ndarray): gradient w.r.t b_1   \n",
    "            b_2_grad (np.ndarray): gradient w.r.t b_2   \n",
    "        \"\"\"\n",
    "        # forward pass\n",
    "        z1 = np.dot(self.W_1, x) + self.b_1\n",
    "        a1 = relu(z1)\n",
    "        y_pred = np.dot(self.W_2, a1) + self.b_2\n",
    "        \n",
    "        # TODO: Calculate the loss (Mean-Squared-Error)\n",
    "        # Hint: use np.square() and np.mean()\n",
    "        loss = np.mean(np.square(y_pred - y))\n",
    "        \n",
    "        # backward pass\n",
    "        dL_dy_pred = 2 * (y_pred - y) / y.shape[1]\n",
    "        \n",
    "        # TODO: Calculate all gradients w.r.t to the parameters\n",
    "        # Hint: You need to calculate the gradients for each of the parameters by hand\n",
    "        # Gradients of the loss w.r.t. W_2 and b_2\n",
    "        dL_dW_2 = np.dot(dL_dy_pred, a1.T)\n",
    "        dL_db_2 = np.sum(dL_dy_pred, axis=1, keepdims=True)\n",
    "        \n",
    "        # Gradients of the loss w.r.t. the hidden layer\n",
    "        dL_dhidden = np.dot(self.W_2.T, dL_dy_pred) * relu_grad(z1)\n",
    "        \n",
    "        # Gradients of the loss w.r.t. W_1 and b_1\n",
    "        dL_dW_1 = np.dot(dL_dhidden, x.T)\n",
    "        dL_db_1 = np.sum(dL_dhidden, axis=1, keepdims=True)\n",
    "        \n",
    "        return loss, dL_dW_1, dL_dW_2, dL_db_1, dL_db_2\n",
    "        \n",
    "    def train(self, x, y, lr=0.0001, epochs=200):\n",
    "        \"\"\"\n",
    "        Train the neural network with gradient descent.\n",
    "        \n",
    "        Parameters:\n",
    "            x (np.ndarray): input values\n",
    "            y (np.ndarray): ground truth values\n",
    "            lr (float): learning rate, default: 0.0001\n",
    "            epochs (int): number of epochs to train, default: 1000\n",
    "            \n",
    "        Returns:\n",
    "            loss (float): Return the loss achieved after all epochs\n",
    "        \"\"\"\n",
    "        # TODO: Keep track of the loss\n",
    "        loss_history = []\n",
    "        for i in range(epochs):\n",
    "            # TODO: Compute loss with x and update parameters of the model using SGD\n",
    "            loss, dL_dW_1, dL_dW_2, dL_db_1, dL_db_2 = self.loss(x, y)\n",
    "            self.W_1 -= lr * dL_dW_1\n",
    "            self.W_2 -= lr * dL_dW_2\n",
    "            self.b_1 -= lr * dL_db_1\n",
    "            self.b_2 -= lr * dL_db_2\n",
    "            loss_history.append(loss)\n",
    "\n",
    "        # TODO: Plot the loss history and return the loss achieved after the final epoch\n",
    "        plt.plot(loss_history)\n",
    "        plt.xlabel('Epochs')\n",
    "        plt.ylabel('Loss')\n",
    "        plt.title('Loss History')\n",
    "        plt.show()\n",
    "        return loss"
   ]
  },
  {
   "cell_type": "code",
   "execution_count": 17,
   "metadata": {},
   "outputs": [
    {
     "data": {
      "image/png": "[encoded data removed]",
      "text/plain": [
       "<Figure size 640x480 with 1 Axes>"
      ]
     },
     "metadata": {},
     "output_type": "display_data"
    },
    {
     "name": "stdout",
     "output_type": "stream",
     "text": [
      "4432.300798164572\n"
     ]
    }
   ],
   "source": [
    "# We test the model created above on the simple function y = x^2\n",
    "\n",
    "model = NumPyNeuralNet(1, 20, 1)\n",
    "\n",
    "# Create a randomly distributed array of 1000 values\n",
    "x_train = 10 * np.random.randn(1, 1000)\n",
    "# Create ground truth by calculating x*x\n",
    "y_train = x_train * x_train\n",
    "\n",
    "loss = model.train(x_train, y_train)\n",
    "print(loss)"
   ]
  },
  {
   "cell_type": "markdown",
   "metadata": {},
   "source": [
    "## Embeddings\n",
    "\n",
    "### Intrinsic evaluation of embeddings\n",
    "Word similarity task is often used as an intrinsic evaluation criteria. In the dataset file you will find a list of word pairs with their similarity scores as judged by humans. The task would be to judge how well are the word vectors aligned to human judgement. We will use word2vec embedding vectors trained on the google news corpus. (Ignore the pairs where at least one the words is absent in the corpus)"
   ]
  },
  {
   "cell_type": "code",
   "execution_count": 18,
   "metadata": {},
   "outputs": [],
   "source": [
    "import torch.nn as nn\n",
    "from torch.utils.data import Dataset, DataLoader"
   ]
  },
  {
   "cell_type": "code",
   "execution_count": 19,
   "metadata": {},
   "outputs": [],
   "source": [
    "import gensim.downloader as api\n",
    "wv = api.load('word2vec-google-news-300')"
   ]
  },
  {
   "cell_type": "markdown",
   "metadata": {},
   "source": [
    "Write a function which takes as input two words and computes the cosine similarity between them.\n",
    "You do not need to implement the cosine similarity calculation from scratch. Feel free to use any Python library.\n",
    "Remeber to ignore any pairs where at least one word is absent in the corpus. (2 points)"
   ]
  },
  {
   "cell_type": "code",
   "execution_count": 20,
   "metadata": {},
   "outputs": [],
   "source": [
    "def similarity(word1, word2):\n",
    "    vec1 = wv[word1]\n",
    "    vec2 = wv[word2]\n",
    "    return np.dot(vec1, vec2) / (np.linalg.norm(vec1) * np.linalg.norm(vec2))"
   ]
  },
  {
   "cell_type": "markdown",
   "metadata": {},
   "source": [
    "Compute the similarity between all the word pairs in the list and sort them based on the similarity scores. (1 point)"
   ]
  },
  {
   "cell_type": "code",
   "execution_count": 21,
   "metadata": {},
   "outputs": [
    {
     "data": {
      "text/html": [
       "<div>\n",
       "<style scoped>\n",
       "    .dataframe tbody tr th:only-of-type {\n",
       "        vertical-align: middle;\n",
       "    }\n",
       "\n",
       "    .dataframe tbody tr th {\n",
       "        vertical-align: top;\n",
       "    }\n",
       "\n",
       "    .dataframe thead th {\n",
       "        text-align: right;\n",
       "    }\n",
       "</style>\n",
       "<table border=\"1\" class=\"dataframe\">\n",
       "  <thead>\n",
       "    <tr style=\"text-align: right;\">\n",
       "      <th></th>\n",
       "      <th>Word 1</th>\n",
       "      <th>Word 2</th>\n",
       "      <th>Human (mean)</th>\n",
       "    </tr>\n",
       "  </thead>\n",
       "  <tbody>\n",
       "    <tr>\n",
       "      <th>0</th>\n",
       "      <td>love</td>\n",
       "      <td>sex</td>\n",
       "      <td>6.77</td>\n",
       "    </tr>\n",
       "    <tr>\n",
       "      <th>1</th>\n",
       "      <td>tiger</td>\n",
       "      <td>cat</td>\n",
       "      <td>7.35</td>\n",
       "    </tr>\n",
       "    <tr>\n",
       "      <th>2</th>\n",
       "      <td>tiger</td>\n",
       "      <td>tiger</td>\n",
       "      <td>10.00</td>\n",
       "    </tr>\n",
       "    <tr>\n",
       "      <th>3</th>\n",
       "      <td>book</td>\n",
       "      <td>paper</td>\n",
       "      <td>7.46</td>\n",
       "    </tr>\n",
       "    <tr>\n",
       "      <th>4</th>\n",
       "      <td>computer</td>\n",
       "      <td>keyboard</td>\n",
       "      <td>7.62</td>\n",
       "    </tr>\n",
       "  </tbody>\n",
       "</table>\n",
       "</div>"
      ],
      "text/plain": [
       "     Word 1    Word 2  Human (mean)\n",
       "0      love       sex          6.77\n",
       "1     tiger       cat          7.35\n",
       "2     tiger     tiger         10.00\n",
       "3      book     paper          7.46\n",
       "4  computer  keyboard          7.62"
      ]
     },
     "execution_count": 21,
     "metadata": {},
     "output_type": "execute_result"
    }
   ],
   "source": [
    "import pandas as pd\n",
    "# Assuming `word_pairs` is a list of tuples containing word pairs and their human similarity scores\n",
    "word_pairs_df = pd.read_csv('wordsim353_dataset.csv')\n",
    "\n",
    "word_pairs_df.head()"
   ]
  },
  {
   "cell_type": "code",
   "execution_count": 22,
   "metadata": {},
   "outputs": [
    {
     "name": "stdout",
     "output_type": "stream",
     "text": [
      "Word pairs: [('love', 'sex', 6.77), ('tiger', 'cat', 7.35), ('tiger', 'tiger', 10.0), ('book', 'paper', 7.46), ('computer', 'keyboard', 7.62)]\n"
     ]
    }
   ],
   "source": [
    "word_pairs = list(zip(word_pairs_df['Word 1'], word_pairs_df['Word 2'], word_pairs_df['Human (mean)']))\n",
    "\n",
    "print(\"Word pairs:\", word_pairs[:5])"
   ]
  },
  {
   "cell_type": "code",
   "execution_count": 23,
   "metadata": {},
   "outputs": [],
   "source": [
    "# Compute similarity for each word pair and store with their scores\n",
    "similarity_scores = []\n",
    "for word1, word2, human_score in word_pairs:\n",
    "    if word1 in wv and word2 in wv:\n",
    "        sim_score = similarity(word1, word2)\n",
    "        similarity_scores.append((word1, word2, sim_score, human_score))\n",
    "    else:\n",
    "        print(f\"Word not found in Word2Vec: {word1}, {word2}\")\n",
    "similarity_scores_df = pd.DataFrame(similarity_scores, columns=['Word 1', 'Word 2', 'Cosine Similarity', 'Human Score'])\n",
    "similarity_scores_df.to_csv('similarity_scores.csv', index=False)\n"
   ]
  },
  {
   "cell_type": "code",
   "execution_count": 24,
   "metadata": {},
   "outputs": [
    {
     "data": {
      "text/html": [
       "<div>\n",
       "<style scoped>\n",
       "    .dataframe tbody tr th:only-of-type {\n",
       "        vertical-align: middle;\n",
       "    }\n",
       "\n",
       "    .dataframe tbody tr th {\n",
       "        vertical-align: top;\n",
       "    }\n",
       "\n",
       "    .dataframe thead th {\n",
       "        text-align: right;\n",
       "    }\n",
       "</style>\n",
       "<table border=\"1\" class=\"dataframe\">\n",
       "  <thead>\n",
       "    <tr style=\"text-align: right;\">\n",
       "      <th></th>\n",
       "      <th>Word 1</th>\n",
       "      <th>Word 2</th>\n",
       "      <th>Cosine Similarity</th>\n",
       "      <th>Human Score</th>\n",
       "    </tr>\n",
       "  </thead>\n",
       "  <tbody>\n",
       "    <tr>\n",
       "      <th>0</th>\n",
       "      <td>love</td>\n",
       "      <td>sex</td>\n",
       "      <td>0.263938</td>\n",
       "      <td>6.77</td>\n",
       "    </tr>\n",
       "    <tr>\n",
       "      <th>1</th>\n",
       "      <td>tiger</td>\n",
       "      <td>cat</td>\n",
       "      <td>0.517296</td>\n",
       "      <td>7.35</td>\n",
       "    </tr>\n",
       "    <tr>\n",
       "      <th>2</th>\n",
       "      <td>tiger</td>\n",
       "      <td>tiger</td>\n",
       "      <td>1.000000</td>\n",
       "      <td>10.00</td>\n",
       "    </tr>\n",
       "    <tr>\n",
       "      <th>3</th>\n",
       "      <td>book</td>\n",
       "      <td>paper</td>\n",
       "      <td>0.363463</td>\n",
       "      <td>7.46</td>\n",
       "    </tr>\n",
       "    <tr>\n",
       "      <th>4</th>\n",
       "      <td>computer</td>\n",
       "      <td>keyboard</td>\n",
       "      <td>0.396392</td>\n",
       "      <td>7.62</td>\n",
       "    </tr>\n",
       "  </tbody>\n",
       "</table>\n",
       "</div>"
      ],
      "text/plain": [
       "     Word 1    Word 2  Cosine Similarity  Human Score\n",
       "0      love       sex           0.263938         6.77\n",
       "1     tiger       cat           0.517296         7.35\n",
       "2     tiger     tiger           1.000000        10.00\n",
       "3      book     paper           0.363463         7.46\n",
       "4  computer  keyboard           0.396392         7.62"
      ]
     },
     "execution_count": 24,
     "metadata": {},
     "output_type": "execute_result"
    }
   ],
   "source": [
    "similarity_scores_df.head()"
   ]
  },
  {
   "cell_type": "markdown",
   "metadata": {},
   "source": [
    "Sort the word pairs in the list based on the human judgement scores. (1 point)"
   ]
  },
  {
   "cell_type": "code",
   "execution_count": 25,
   "metadata": {},
   "outputs": [
    {
     "name": "stdout",
     "output_type": "stream",
     "text": [
      "[('tiger', 'tiger', 10.0), ('fuck', 'sex', 9.44), ('journey', 'voyage', 9.29), ('midday', 'noon', 9.29), ('dollar', 'buck', 9.22)]\n"
     ]
    }
   ],
   "source": [
    "sorted_word_pairs = sorted(word_pairs, key=lambda x: x[2], reverse=True)\n",
    "print(sorted_word_pairs[:5])"
   ]
  },
  {
   "cell_type": "markdown",
   "metadata": {},
   "source": [
    "Compute spearman rank correlation between the two ranked lists obtained in the previous two steps.\n",
    "You do not need to implement the spearman rank correlation calculation from scratch. Feel free to use any Python library. (2 points)"
   ]
  },
  {
   "cell_type": "code",
   "execution_count": 26,
   "metadata": {},
   "outputs": [
    {
     "name": "stdout",
     "output_type": "stream",
     "text": [
      "Spearman Rank Correlation: 0.7000166486272194\n"
     ]
    }
   ],
   "source": [
    "from scipy.stats import spearmanr\n",
    "\n",
    "# Compute Spearman rank correlation\n",
    "human_scores = similarity_scores_df['Human Score']\n",
    "cosine_similarities = similarity_scores_df['Cosine Similarity']\n",
    "\n",
    "spearman_corr, _ = spearmanr(human_scores, cosine_similarities)\n",
    "print(f\"Spearman Rank Correlation: {spearman_corr}\")"
   ]
  },
  {
   "cell_type": "markdown",
   "metadata": {},
   "source": [
    "### Word embedding based clasifier\n",
    "We will design a simple sentiment classifier based on the pre-trained word embeddings (google news).\n",
    "\n",
    "Each data point is a movie review and the sentiment could be either positive (1) or negative (0)"
   ]
  },
  {
   "cell_type": "code",
   "execution_count": 29,
   "metadata": {},
   "outputs": [
    {
     "data": {
      "text/plain": [
       "1821"
      ]
     },
     "execution_count": 29,
     "metadata": {},
     "output_type": "execute_result"
    }
   ],
   "source": [
    "import pickle\n",
    "with open('sentiment_test_X.p', 'rb') as fs:\n",
    "    test_X = pickle.load(fs)\n",
    "\n",
    "len(test_X)"
   ]
  },
  {
   "cell_type": "code",
   "execution_count": 30,
   "metadata": {},
   "outputs": [
    {
     "data": {
      "text/plain": [
       "['If',\n",
       " 'you',\n",
       " 'sometimes',\n",
       " 'like',\n",
       " 'to',\n",
       " 'go',\n",
       " 'to',\n",
       " 'the',\n",
       " 'movies',\n",
       " 'to',\n",
       " 'have',\n",
       " 'fun',\n",
       " ',',\n",
       " 'Wasabi',\n",
       " 'is',\n",
       " 'a',\n",
       " 'good',\n",
       " 'place',\n",
       " 'to',\n",
       " 'start',\n",
       " '.']"
      ]
     },
     "execution_count": 30,
     "metadata": {},
     "output_type": "execute_result"
    }
   ],
   "source": [
    "test_X[0]"
   ]
  },
  {
   "cell_type": "code",
   "execution_count": 31,
   "metadata": {},
   "outputs": [
    {
     "data": {
      "text/plain": [
       "1821"
      ]
     },
     "execution_count": 31,
     "metadata": {},
     "output_type": "execute_result"
    }
   ],
   "source": [
    "with open('sentiment_test_y.p', 'rb') as fs:\n",
    "    test_y = pickle.load(fs)\n",
    "    \n",
    "len(test_y)"
   ]
  },
  {
   "cell_type": "code",
   "execution_count": 32,
   "metadata": {},
   "outputs": [
    {
     "name": "stdout",
     "output_type": "stream",
     "text": [
      "1\n"
     ]
    }
   ],
   "source": [
    "print(test_y[0])"
   ]
  },
  {
   "cell_type": "code",
   "execution_count": 33,
   "metadata": {},
   "outputs": [],
   "source": [
    "with open('sentiment_train_X.p', 'rb') as fs:\n",
    "    train_X = pickle.load(fs)\n",
    "with open('sentiment_train_y.p', 'rb') as fs:\n",
    "    train_y = pickle.load(fs)\n",
    "with open('sentiment_val_X.p', 'rb') as fs:\n",
    "    val_X = pickle.load(fs)\n",
    "with open('sentiment_val_y.p', 'rb') as fs:\n",
    "    val_y = pickle.load(fs)        "
   ]
  },
  {
   "cell_type": "markdown",
   "metadata": {},
   "source": [
    "Given a review, compute its embedding by averaging over the embedding of its constituent words. Define a function which given a review as a list of words, generates its embeddings by averaging over the constituent word embeddings. (4 points)"
   ]
  },
  {
   "cell_type": "code",
   "execution_count": 143,
   "metadata": {},
   "outputs": [],
   "source": [
    "def generate_embedding(review):\n",
    "    vectors = [wv[word] for word in review if word in wv]\n",
    "    if not vectors:\n",
    "        print(f\"No vectors found for review: {review}\")\n",
    "        return np.zeros(300)\n",
    "    return np.mean(vectors, axis=0)"
   ]
  },
  {
   "cell_type": "markdown",
   "metadata": {},
   "source": [
    "Create a feed-forward network class with pytorch. (Hyperparamter choice such as number of layers, hidden size is left to you) (8 points)"
   ]
  },
  {
   "cell_type": "code",
   "execution_count": 144,
   "metadata": {},
   "outputs": [],
   "source": [
    "import torch.nn as nn\n",
    "\n",
    "class Classifier(nn.Module):\n",
    "    def __init__(self, embedding_dim, hidden_dim, output_dim):\n",
    "        super(Classifier, self).__init__()\n",
    "        self.Sequential = nn.Sequential(\n",
    "            nn.Linear(embedding_dim, hidden_dim),\n",
    "            nn.ReLU(),\n",
    "            nn.Dropout(0.5),\n",
    "            nn.Linear(hidden_dim, output_dim)\n",
    "        )\n",
    "        \n",
    "    def forward(self, x):\n",
    "        x = self.Sequential(x)\n",
    "        return x"
   ]
  },
  {
   "cell_type": "markdown",
   "metadata": {},
   "source": [
    "Create a Dataset class for efficiently enumerating over the dataset. (3 points)"
   ]
  },
  {
   "cell_type": "code",
   "execution_count": 145,
   "metadata": {},
   "outputs": [],
   "source": [
    "import torch\n",
    "from torch.utils.data import Dataset\n",
    "from collections import defaultdict\n",
    "\n",
    "class SentimentDataset(Dataset):\n",
    "    def __init__(self, X, y):\n",
    "        self.X = [generate_embedding(review) for review in X]\n",
    "        self.y = y\n",
    "\n",
    "    def __len__(self):\n",
    "        return len(self.X)\n",
    "\n",
    "    def __getitem__(self, idx):\n",
    "        x = torch.tensor(self.X[idx], dtype=torch.float32)\n",
    "        y = torch.tensor(self.y[idx], dtype=torch.long)\n",
    "        return x, y"
   ]
  },
  {
   "cell_type": "markdown",
   "metadata": {},
   "source": [
    "Write a train function to train model. At the end of each epoch compute the validation accuracy and save the model with the best validation accuracy. (12 points)"
   ]
  },
  {
   "cell_type": "code",
   "execution_count": 146,
   "metadata": {},
   "outputs": [],
   "source": [
    "import torch.nn as nn\n",
    "import torch.optim as optim\n",
    "\n",
    "def train(model, train_loader, val_loader, epochs=5, lr=1e-3):\n",
    "    criterion = nn.CrossEntropyLoss()\n",
    "    optimizer = optim.Adam(model.parameters(), lr=lr)\n",
    "\n",
    "    for epoch in range(1, epochs+1):\n",
    "        model.train()\n",
    "        for batch_X, batch_y in train_loader:\n",
    "            optimizer.zero_grad()\n",
    "            outputs = model(batch_X)\n",
    "            loss = criterion(outputs, batch_y)\n",
    "            loss.backward()\n",
    "            optimizer.step()\n",
    "\n",
    "        # Validation\n",
    "        model.eval()\n",
    "        total_val_loss = 0.0\n",
    "        with torch.no_grad():\n",
    "            for batch_X, batch_y in val_loader:\n",
    "                outputs = model(batch_X)\n",
    "                total_val_loss += criterion(outputs, batch_y).item()\n",
    "\n",
    "        avg_val_loss = total_val_loss / len(val_loader)\n",
    "        print(f\"Epoch {epoch}/{epochs} — Validation Loss: {avg_val_loss:.4f}\")"
   ]
  },
  {
   "cell_type": "markdown",
   "metadata": {},
   "source": [
    "Evaluate the trained model on the test set and report the test accuracy. (3 points)"
   ]
  },
  {
   "cell_type": "code",
   "execution_count": 147,
   "metadata": {},
   "outputs": [],
   "source": [
    "def evaluate(model, test_data):\n",
    "    # write your code snippet here\n",
    "    model.eval()\n",
    "    correct = 0\n",
    "    total = 0\n",
    "    true_positives = 0\n",
    "    false_positives = 0\n",
    "    false_negatives = 0\n",
    "    \n",
    "    with torch.no_grad():\n",
    "        for batch in test_data:\n",
    "            inputs, labels = batch\n",
    "            outputs = model(inputs)\n",
    "            _, predicted = torch.max(outputs, 1)\n",
    "            \n",
    "            total += labels.size(0)\n",
    "            correct += (predicted == labels).sum().item()\n",
    "            \n",
    "            # Calculate metrics for each batch\n",
    "            true_positives += ((predicted == 1) & (labels == 1)).sum().item()\n",
    "            false_positives += ((predicted == 1) & (labels == 0)).sum().item()\n",
    "            false_negatives += ((predicted == 0) & (labels == 1)).sum().item()\n",
    "    \n",
    "    test_accuracy = correct / total\n",
    "    precision = true_positives / (true_positives + false_positives) if (true_positives + false_positives) > 0 else 0\n",
    "    recall = true_positives / (true_positives + false_negatives) if (true_positives + false_negatives) > 0 else 0\n",
    "    \n",
    "    return test_accuracy, precision, recall\n"
   ]
  },
  {
   "cell_type": "code",
   "execution_count": 148,
   "metadata": {},
   "outputs": [
    {
     "name": "stdout",
     "output_type": "stream",
     "text": [
      "No vectors found for review: ['One-of-a-kind', 'near-masterpiece', '.']\n",
      "No vectors found for review: ['Execrable', '.']\n",
      "No vectors found for review: ['...', 'bibbidy-bobbidi-bland', '.']\n",
      "No vectors found for review: ['Wishy-washy', '.']\n"
     ]
    }
   ],
   "source": [
    "\"\"\"\n",
    "input: is the size of vector\n",
    "hidden: is the size of the hidden layer\n",
    "output: is the size of the output layer which is 2 for binary classification because we have two classes\n",
    "\"\"\"\n",
    "model = Classifier(300, 100, 2)\n",
    "train_dataset = SentimentDataset(train_X, train_y)\n",
    "train_loader = DataLoader(train_dataset, batch_size=64, shuffle=True)\n",
    "val_dataset = SentimentDataset(val_X, val_y)\n",
    "val_loader = DataLoader(val_dataset, batch_size=64, shuffle=False)\n",
    "test_dataset = SentimentDataset(test_X, test_y) \n",
    "test_loader = DataLoader(test_dataset, batch_size=64, shuffle=False)\n"
   ]
  },
  {
   "cell_type": "code",
   "execution_count": 140,
   "metadata": {},
   "outputs": [
    {
     "name": "stdout",
     "output_type": "stream",
     "text": [
      "Epoch 1/200 — Validation Loss: 0.5008\n",
      "Epoch 2/200 — Validation Loss: 0.4843\n",
      "Epoch 3/200 — Validation Loss: 0.4405\n",
      "Epoch 4/200 — Validation Loss: 0.4399\n",
      "Epoch 5/200 — Validation Loss: 0.4686\n",
      "Epoch 6/200 — Validation Loss: 0.4371\n",
      "Epoch 7/200 — Validation Loss: 0.4378\n",
      "Epoch 8/200 — Validation Loss: 0.4351\n",
      "Epoch 9/200 — Validation Loss: 0.4354\n",
      "Epoch 10/200 — Validation Loss: 0.4369\n",
      "Epoch 11/200 — Validation Loss: 0.4481\n",
      "Epoch 12/200 — Validation Loss: 0.4345\n",
      "Epoch 13/200 — Validation Loss: 0.4369\n",
      "Epoch 14/200 — Validation Loss: 0.4549\n",
      "Epoch 15/200 — Validation Loss: 0.4487\n",
      "Epoch 16/200 — Validation Loss: 0.4448\n",
      "Epoch 17/200 — Validation Loss: 0.4438\n",
      "Epoch 18/200 — Validation Loss: 0.4404\n",
      "Epoch 19/200 — Validation Loss: 0.4453\n",
      "Epoch 20/200 — Validation Loss: 0.4440\n",
      "Epoch 21/200 — Validation Loss: 0.4520\n",
      "Epoch 22/200 — Validation Loss: 0.4543\n",
      "Epoch 23/200 — Validation Loss: 0.4647\n",
      "Epoch 24/200 — Validation Loss: 0.4507\n",
      "Epoch 25/200 — Validation Loss: 0.4529\n",
      "Epoch 26/200 — Validation Loss: 0.4717\n",
      "Epoch 27/200 — Validation Loss: 0.4547\n",
      "Epoch 28/200 — Validation Loss: 0.4643\n",
      "Epoch 29/200 — Validation Loss: 0.4670\n",
      "Epoch 30/200 — Validation Loss: 0.4761\n",
      "Epoch 31/200 — Validation Loss: 0.4797\n",
      "Epoch 32/200 — Validation Loss: 0.4831\n",
      "Epoch 33/200 — Validation Loss: 0.4769\n",
      "Epoch 34/200 — Validation Loss: 0.4705\n",
      "Epoch 35/200 — Validation Loss: 0.4753\n",
      "Epoch 36/200 — Validation Loss: 0.4929\n",
      "Epoch 37/200 — Validation Loss: 0.4909\n",
      "Epoch 38/200 — Validation Loss: 0.4922\n",
      "Epoch 39/200 — Validation Loss: 0.4930\n",
      "Epoch 40/200 — Validation Loss: 0.4852\n",
      "Epoch 41/200 — Validation Loss: 0.5028\n",
      "Epoch 42/200 — Validation Loss: 0.5068\n",
      "Epoch 43/200 — Validation Loss: 0.5192\n",
      "Epoch 44/200 — Validation Loss: 0.5045\n",
      "Epoch 45/200 — Validation Loss: 0.5024\n",
      "Epoch 46/200 — Validation Loss: 0.4997\n",
      "Epoch 47/200 — Validation Loss: 0.5087\n",
      "Epoch 48/200 — Validation Loss: 0.4960\n",
      "Epoch 49/200 — Validation Loss: 0.5106\n",
      "Epoch 50/200 — Validation Loss: 0.5159\n",
      "Epoch 51/200 — Validation Loss: 0.5164\n",
      "Epoch 52/200 — Validation Loss: 0.5288\n",
      "Epoch 53/200 — Validation Loss: 0.5283\n",
      "Epoch 54/200 — Validation Loss: 0.5194\n",
      "Epoch 55/200 — Validation Loss: 0.5287\n",
      "Epoch 56/200 — Validation Loss: 0.5229\n",
      "Epoch 57/200 — Validation Loss: 0.5217\n",
      "Epoch 58/200 — Validation Loss: 0.5344\n",
      "Epoch 59/200 — Validation Loss: 0.5484\n",
      "Epoch 60/200 — Validation Loss: 0.5434\n",
      "Epoch 61/200 — Validation Loss: 0.5474\n",
      "Epoch 62/200 — Validation Loss: 0.5418\n",
      "Epoch 63/200 — Validation Loss: 0.5488\n",
      "Epoch 64/200 — Validation Loss: 0.5705\n",
      "Epoch 65/200 — Validation Loss: 0.5654\n",
      "Epoch 66/200 — Validation Loss: 0.5686\n",
      "Epoch 67/200 — Validation Loss: 0.5749\n",
      "Epoch 68/200 — Validation Loss: 0.5682\n",
      "Epoch 69/200 — Validation Loss: 0.5870\n",
      "Epoch 70/200 — Validation Loss: 0.5839\n",
      "Epoch 71/200 — Validation Loss: 0.5706\n",
      "Epoch 72/200 — Validation Loss: 0.5803\n",
      "Epoch 73/200 — Validation Loss: 0.6007\n",
      "Epoch 74/200 — Validation Loss: 0.5988\n",
      "Epoch 75/200 — Validation Loss: 0.5961\n",
      "Epoch 76/200 — Validation Loss: 0.5967\n",
      "Epoch 77/200 — Validation Loss: 0.5943\n",
      "Epoch 78/200 — Validation Loss: 0.5967\n",
      "Epoch 79/200 — Validation Loss: 0.6168\n",
      "Epoch 80/200 — Validation Loss: 0.5983\n",
      "Epoch 81/200 — Validation Loss: 0.6262\n",
      "Epoch 82/200 — Validation Loss: 0.6026\n",
      "Epoch 83/200 — Validation Loss: 0.6099\n",
      "Epoch 84/200 — Validation Loss: 0.6135\n",
      "Epoch 85/200 — Validation Loss: 0.6216\n",
      "Epoch 86/200 — Validation Loss: 0.6461\n",
      "Epoch 87/200 — Validation Loss: 0.6195\n",
      "Epoch 88/200 — Validation Loss: 0.6256\n",
      "Epoch 89/200 — Validation Loss: 0.6282\n",
      "Epoch 90/200 — Validation Loss: 0.6412\n",
      "Epoch 91/200 — Validation Loss: 0.6313\n",
      "Epoch 92/200 — Validation Loss: 0.6543\n",
      "Epoch 93/200 — Validation Loss: 0.6321\n",
      "Epoch 94/200 — Validation Loss: 0.6465\n",
      "Epoch 95/200 — Validation Loss: 0.6502\n",
      "Epoch 96/200 — Validation Loss: 0.6532\n",
      "Epoch 97/200 — Validation Loss: 0.6605\n",
      "Epoch 98/200 — Validation Loss: 0.6677\n",
      "Epoch 99/200 — Validation Loss: 0.6769\n",
      "Epoch 100/200 — Validation Loss: 0.6819\n",
      "Epoch 101/200 — Validation Loss: 0.6642\n",
      "Epoch 102/200 — Validation Loss: 0.6562\n",
      "Epoch 103/200 — Validation Loss: 0.6889\n",
      "Epoch 104/200 — Validation Loss: 0.6651\n",
      "Epoch 105/200 — Validation Loss: 0.6781\n",
      "Epoch 106/200 — Validation Loss: 0.6948\n",
      "Epoch 107/200 — Validation Loss: 0.6823\n",
      "Epoch 108/200 — Validation Loss: 0.7023\n",
      "Epoch 109/200 — Validation Loss: 0.6930\n",
      "Epoch 110/200 — Validation Loss: 0.7062\n",
      "Epoch 111/200 — Validation Loss: 0.6855\n",
      "Epoch 112/200 — Validation Loss: 0.7042\n",
      "Epoch 113/200 — Validation Loss: 0.7259\n",
      "Epoch 114/200 — Validation Loss: 0.7247\n",
      "Epoch 115/200 — Validation Loss: 0.7355\n",
      "Epoch 116/200 — Validation Loss: 0.7099\n",
      "Epoch 117/200 — Validation Loss: 0.7413\n",
      "Epoch 118/200 — Validation Loss: 0.7242\n",
      "Epoch 119/200 — Validation Loss: 0.7368\n",
      "Epoch 120/200 — Validation Loss: 0.7381\n",
      "Epoch 121/200 — Validation Loss: 0.7423\n",
      "Epoch 122/200 — Validation Loss: 0.7635\n",
      "Epoch 123/200 — Validation Loss: 0.7492\n",
      "Epoch 124/200 — Validation Loss: 0.7745\n",
      "Epoch 125/200 — Validation Loss: 0.7714\n",
      "Epoch 126/200 — Validation Loss: 0.7644\n",
      "Epoch 127/200 — Validation Loss: 0.7630\n",
      "Epoch 128/200 — Validation Loss: 0.7514\n",
      "Epoch 129/200 — Validation Loss: 0.7594\n",
      "Epoch 130/200 — Validation Loss: 0.7642\n",
      "Epoch 131/200 — Validation Loss: 0.8001\n",
      "Epoch 132/200 — Validation Loss: 0.7794\n",
      "Epoch 133/200 — Validation Loss: 0.8038\n",
      "Epoch 134/200 — Validation Loss: 0.8020\n",
      "Epoch 135/200 — Validation Loss: 0.8036\n",
      "Epoch 136/200 — Validation Loss: 0.8018\n",
      "Epoch 137/200 — Validation Loss: 0.8042\n",
      "Epoch 138/200 — Validation Loss: 0.8231\n",
      "Epoch 139/200 — Validation Loss: 0.7942\n",
      "Epoch 140/200 — Validation Loss: 0.7958\n",
      "Epoch 141/200 — Validation Loss: 0.7938\n",
      "Epoch 142/200 — Validation Loss: 0.8300\n",
      "Epoch 143/200 — Validation Loss: 0.8149\n",
      "Epoch 144/200 — Validation Loss: 0.8417\n",
      "Epoch 145/200 — Validation Loss: 0.8264\n",
      "Epoch 146/200 — Validation Loss: 0.8291\n",
      "Epoch 147/200 — Validation Loss: 0.8397\n",
      "Epoch 148/200 — Validation Loss: 0.8232\n",
      "Epoch 149/200 — Validation Loss: 0.8333\n",
      "Epoch 150/200 — Validation Loss: 0.8405\n",
      "Epoch 151/200 — Validation Loss: 0.8480\n",
      "Epoch 152/200 — Validation Loss: 0.8702\n",
      "Epoch 153/200 — Validation Loss: 0.8752\n",
      "Epoch 154/200 — Validation Loss: 0.8579\n",
      "Epoch 155/200 — Validation Loss: 0.8695\n",
      "Epoch 156/200 — Validation Loss: 0.8960\n",
      "Epoch 157/200 — Validation Loss: 0.8944\n",
      "Epoch 158/200 — Validation Loss: 0.9016\n",
      "Epoch 159/200 — Validation Loss: 0.8866\n",
      "Epoch 160/200 — Validation Loss: 0.8960\n",
      "Epoch 161/200 — Validation Loss: 0.8927\n",
      "Epoch 162/200 — Validation Loss: 0.9134\n",
      "Epoch 163/200 — Validation Loss: 0.8873\n",
      "Epoch 164/200 — Validation Loss: 0.8853\n",
      "Epoch 165/200 — Validation Loss: 0.8930\n",
      "Epoch 166/200 — Validation Loss: 0.8926\n",
      "Epoch 167/200 — Validation Loss: 0.9135\n",
      "Epoch 168/200 — Validation Loss: 0.9452\n",
      "Epoch 169/200 — Validation Loss: 0.9179\n",
      "Epoch 170/200 — Validation Loss: 0.9203\n",
      "Epoch 171/200 — Validation Loss: 0.8937\n",
      "Epoch 172/200 — Validation Loss: 0.9136\n",
      "Epoch 173/200 — Validation Loss: 0.9503\n",
      "Epoch 174/200 — Validation Loss: 0.9243\n",
      "Epoch 175/200 — Validation Loss: 0.9156\n",
      "Epoch 176/200 — Validation Loss: 0.9448\n",
      "Epoch 177/200 — Validation Loss: 0.9444\n",
      "Epoch 178/200 — Validation Loss: 0.9620\n",
      "Epoch 179/200 — Validation Loss: 0.9517\n",
      "Epoch 180/200 — Validation Loss: 0.9491\n",
      "Epoch 181/200 — Validation Loss: 0.9579\n",
      "Epoch 182/200 — Validation Loss: 0.9655\n",
      "Epoch 183/200 — Validation Loss: 0.9576\n",
      "Epoch 184/200 — Validation Loss: 0.9797\n",
      "Epoch 185/200 — Validation Loss: 0.9817\n",
      "Epoch 186/200 — Validation Loss: 0.9433\n",
      "Epoch 187/200 — Validation Loss: 0.9843\n",
      "Epoch 188/200 — Validation Loss: 0.9629\n",
      "Epoch 189/200 — Validation Loss: 0.9732\n",
      "Epoch 190/200 — Validation Loss: 0.9797\n",
      "Epoch 191/200 — Validation Loss: 1.0153\n",
      "Epoch 192/200 — Validation Loss: 0.9899\n",
      "Epoch 193/200 — Validation Loss: 0.9940\n",
      "Epoch 194/200 — Validation Loss: 0.9843\n",
      "Epoch 195/200 — Validation Loss: 1.0190\n",
      "Epoch 196/200 — Validation Loss: 1.0199\n",
      "Epoch 197/200 — Validation Loss: 1.0066\n",
      "Epoch 198/200 — Validation Loss: 1.0083\n",
      "Epoch 199/200 — Validation Loss: 1.0148\n",
      "Epoch 200/200 — Validation Loss: 1.0218\n"
     ]
    }
   ],
   "source": [
    "train(model, train_loader, val_loader, epochs=200, lr=0.001)"
   ]
  },
  {
   "cell_type": "code",
   "execution_count": 142,
   "metadata": {},
   "outputs": [
    {
     "name": "stdout",
     "output_type": "stream",
     "text": [
      "(0.8088962108731467, 0.7961985216473073, 0.8294829482948295)\n"
     ]
    }
   ],
   "source": [
    "# evaluate the model\n",
    "evaluations = evaluate(model, test_loader)\n",
    "print(evaluations)"
   ]
  }
 ],
 "metadata": {
  "kernelspec": {
   "display_name": "textmining",
   "language": "python",
   "name": "python3"
  },
  "language_info": {
   "codemirror_mode": {
    "name": "ipython",
    "version": 3
   },
   "file_extension": ".py",
   "mimetype": "text/x-python",
   "name": "python",
   "nbconvert_exporter": "python",
   "pygments_lexer": "ipython3",
   "version": "3.9.22"
  }
 },
 "nbformat": 4,
 "nbformat_minor": 2
}
